{
 "cells": [
  {
   "cell_type": "markdown",
   "metadata": {},
   "source": [
    "### Title: \n",
    "# Feature Engineering"
   ]
  },
  {
   "cell_type": "markdown",
   "metadata": {},
   "source": [
    "### Description:\n",
    "What is a feature and why we need the engineering of it? Basically, all machine learning algorithms use some input data to create outputs. This input data comprise features, which are usually in the form of structured columns. Algorithms require features with some specific characteristic to work properly. Here, the need for feature engineering arises. I think feature engineering efforts mainly have two goals:\n",
    "\n",
    "- Preparing the proper input dataset, compatible with the machine learning algorithm requirements.\n",
    "- Improving the performance of machine learning models."
   ]
  },
  {
   "cell_type": "markdown",
   "metadata": {},
   "source": [
    "### Authors:\n",
    "#### Hugo Cesar Octavio del Sueldo\n",
    "#### Jose Lopez Galdon"
   ]
  },
  {
   "cell_type": "markdown",
   "metadata": {},
   "source": [
    "### Date:\n",
    "04/11/2020"
   ]
  },
  {
   "cell_type": "markdown",
   "metadata": {},
   "source": [
    "### Version:\n",
    "1.0"
   ]
  },
  {
   "cell_type": "markdown",
   "metadata": {},
   "source": [
    "***"
   ]
  },
  {
   "cell_type": "markdown",
   "metadata": {},
   "source": [
    "### Libraries"
   ]
  },
  {
   "cell_type": "code",
   "execution_count": 1,
   "metadata": {},
   "outputs": [],
   "source": [
    "    # Numpy & Pandas to work with the DF\n",
    "import numpy as np\n",
    "import pandas as pd\n",
    "\n",
    "    # Visualize DF & images\n",
    "from IPython.display import display, HTML\n",
    "\n",
    "    # Import Sklearn\n",
    "from sklearn.model_selection import train_test_split\n",
    "from sklearn.ensemble import IsolationForest"
   ]
  },
  {
   "cell_type": "markdown",
   "metadata": {},
   "source": [
    "## Load data"
   ]
  },
  {
   "cell_type": "code",
   "execution_count": 2,
   "metadata": {},
   "outputs": [],
   "source": [
    "    # To automate the work as much as possible, we will parameterize the codes, so in this case, we will create an objetct with\n",
    "    # the path root\n",
    "name = 'data_preprocessed'\n",
    "\n",
    "data = pd.read_csv(f'../data/02_intermediate/{name}.csv',  # Path root: here we include an f-string with the variable name\n",
    "                   low_memory = False)                     # To avoid warnings we use set low_memory = False"
   ]
  },
  {
   "cell_type": "markdown",
   "metadata": {},
   "source": [
    "### View data"
   ]
  },
  {
   "cell_type": "markdown",
   "metadata": {},
   "source": [
    "Firstly, we are goint to take a look to our dataframe:"
   ]
  },
  {
   "cell_type": "code",
   "execution_count": 3,
   "metadata": {},
   "outputs": [
    {
     "data": {
      "text/html": [
       "<table border=\"1\" class=\"dataframe\">\n",
       "  <thead>\n",
       "    <tr style=\"text-align: right;\">\n",
       "      <th></th>\n",
       "      <th>loan_status</th>\n",
       "      <th>funded_amnt</th>\n",
       "      <th>term</th>\n",
       "      <th>int_rate</th>\n",
       "      <th>emp_length</th>\n",
       "      <th>home_ownership</th>\n",
       "      <th>annual_inc</th>\n",
       "      <th>addr_state</th>\n",
       "      <th>inq_last_6mths</th>\n",
       "      <th>open_acc</th>\n",
       "      <th>revol_bal</th>\n",
       "      <th>revol_util</th>\n",
       "      <th>total_acc</th>\n",
       "      <th>acc_open_past_24mths</th>\n",
       "      <th>avg_cur_bal</th>\n",
       "      <th>bc_open_to_buy</th>\n",
       "      <th>bc_util</th>\n",
       "      <th>mo_sin_old_il_acct</th>\n",
       "      <th>mo_sin_old_rev_tl_op</th>\n",
       "      <th>mo_sin_rcnt_rev_tl_op</th>\n",
       "      <th>mo_sin_rcnt_tl</th>\n",
       "      <th>mort_acc</th>\n",
       "      <th>num_actv_bc_tl</th>\n",
       "      <th>num_actv_rev_tl</th>\n",
       "      <th>num_bc_tl</th>\n",
       "      <th>num_il_tl</th>\n",
       "      <th>num_tl_op_past_12m</th>\n",
       "      <th>pct_tl_nvr_dlq</th>\n",
       "      <th>total_il_high_credit_limit</th>\n",
       "      <th>debt_settlement_flag</th>\n",
       "    </tr>\n",
       "  </thead>\n",
       "  <tbody>\n",
       "    <tr>\n",
       "      <th>0</th>\n",
       "      <td>0</td>\n",
       "      <td>-0.374080</td>\n",
       "      <td>0</td>\n",
       "      <td>-1.295542</td>\n",
       "      <td>6</td>\n",
       "      <td>2</td>\n",
       "      <td>1.165720</td>\n",
       "      <td>4</td>\n",
       "      <td>-0.706388</td>\n",
       "      <td>1.472352</td>\n",
       "      <td>-0.361733</td>\n",
       "      <td>-1.274618</td>\n",
       "      <td>1.620425</td>\n",
       "      <td>1.008902</td>\n",
       "      <td>0.632728</td>\n",
       "      <td>1.005441</td>\n",
       "      <td>-1.730262</td>\n",
       "      <td>0.073228</td>\n",
       "      <td>1.015729</td>\n",
       "      <td>-0.615098</td>\n",
       "      <td>-0.558955</td>\n",
       "      <td>0.100821</td>\n",
       "      <td>1.098916</td>\n",
       "      <td>1.060693</td>\n",
       "      <td>1.558178</td>\n",
       "      <td>0.391566</td>\n",
       "      <td>-0.122448</td>\n",
       "      <td>0.151335</td>\n",
       "      <td>1.811281</td>\n",
       "      <td>0</td>\n",
       "    </tr>\n",
       "    <tr>\n",
       "      <th>1</th>\n",
       "      <td>0</td>\n",
       "      <td>-0.888360</td>\n",
       "      <td>0</td>\n",
       "      <td>2.596361</td>\n",
       "      <td>2</td>\n",
       "      <td>3</td>\n",
       "      <td>-0.401111</td>\n",
       "      <td>47</td>\n",
       "      <td>-0.706388</td>\n",
       "      <td>-1.465798</td>\n",
       "      <td>-0.591312</td>\n",
       "      <td>1.923440</td>\n",
       "      <td>-1.772693</td>\n",
       "      <td>-0.897198</td>\n",
       "      <td>-0.735431</td>\n",
       "      <td>-0.648872</td>\n",
       "      <td>1.344423</td>\n",
       "      <td>-2.043405</td>\n",
       "      <td>-0.104311</td>\n",
       "      <td>0.091684</td>\n",
       "      <td>0.812923</td>\n",
       "      <td>-0.857378</td>\n",
       "      <td>-0.765412</td>\n",
       "      <td>-1.161177</td>\n",
       "      <td>-1.122894</td>\n",
       "      <td>-1.079178</td>\n",
       "      <td>-1.233873</td>\n",
       "      <td>-1.770156</td>\n",
       "      <td>-0.915202</td>\n",
       "      <td>0</td>\n",
       "    </tr>\n",
       "    <tr>\n",
       "      <th>2</th>\n",
       "      <td>0</td>\n",
       "      <td>-0.853095</td>\n",
       "      <td>0</td>\n",
       "      <td>-1.295542</td>\n",
       "      <td>7</td>\n",
       "      <td>1</td>\n",
       "      <td>0.511606</td>\n",
       "      <td>43</td>\n",
       "      <td>1.403049</td>\n",
       "      <td>1.288718</td>\n",
       "      <td>0.319091</td>\n",
       "      <td>-1.085757</td>\n",
       "      <td>0.048005</td>\n",
       "      <td>2.597318</td>\n",
       "      <td>0.074271</td>\n",
       "      <td>3.469124</td>\n",
       "      <td>-1.214811</td>\n",
       "      <td>-1.519101</td>\n",
       "      <td>-1.420086</td>\n",
       "      <td>-0.615098</td>\n",
       "      <td>-0.558955</td>\n",
       "      <td>1.059021</td>\n",
       "      <td>3.429325</td>\n",
       "      <td>1.695513</td>\n",
       "      <td>0.939469</td>\n",
       "      <td>-0.143250</td>\n",
       "      <td>0.433265</td>\n",
       "      <td>0.677603</td>\n",
       "      <td>-0.254725</td>\n",
       "      <td>0</td>\n",
       "    </tr>\n",
       "    <tr>\n",
       "      <th>3</th>\n",
       "      <td>0</td>\n",
       "      <td>-0.559221</td>\n",
       "      <td>1</td>\n",
       "      <td>0.632618</td>\n",
       "      <td>7</td>\n",
       "      <td>3</td>\n",
       "      <td>-0.371006</td>\n",
       "      <td>4</td>\n",
       "      <td>-0.706388</td>\n",
       "      <td>0.554180</td>\n",
       "      <td>-0.491337</td>\n",
       "      <td>-1.387935</td>\n",
       "      <td>-0.448549</td>\n",
       "      <td>0.691219</td>\n",
       "      <td>-0.807735</td>\n",
       "      <td>0.347170</td>\n",
       "      <td>-1.420270</td>\n",
       "      <td>0.073228</td>\n",
       "      <td>-1.387463</td>\n",
       "      <td>-0.422339</td>\n",
       "      <td>-0.184807</td>\n",
       "      <td>-0.857378</td>\n",
       "      <td>-0.299330</td>\n",
       "      <td>0.425873</td>\n",
       "      <td>-0.091712</td>\n",
       "      <td>-0.678066</td>\n",
       "      <td>0.433265</td>\n",
       "      <td>0.677603</td>\n",
       "      <td>-0.880119</td>\n",
       "      <td>0</td>\n",
       "    </tr>\n",
       "    <tr>\n",
       "      <th>4</th>\n",
       "      <td>0</td>\n",
       "      <td>-0.089022</td>\n",
       "      <td>0</td>\n",
       "      <td>0.632618</td>\n",
       "      <td>7</td>\n",
       "      <td>1</td>\n",
       "      <td>-0.020812</td>\n",
       "      <td>19</td>\n",
       "      <td>-0.706388</td>\n",
       "      <td>-1.465798</td>\n",
       "      <td>-0.630879</td>\n",
       "      <td>1.549914</td>\n",
       "      <td>-1.358898</td>\n",
       "      <td>0.055852</td>\n",
       "      <td>1.182123</td>\n",
       "      <td>-0.631120</td>\n",
       "      <td>1.023618</td>\n",
       "      <td>-0.334563</td>\n",
       "      <td>-0.919874</td>\n",
       "      <td>-0.486592</td>\n",
       "      <td>-0.309523</td>\n",
       "      <td>-0.378278</td>\n",
       "      <td>-1.231494</td>\n",
       "      <td>-1.478587</td>\n",
       "      <td>-0.710421</td>\n",
       "      <td>-0.811770</td>\n",
       "      <td>0.433265</td>\n",
       "      <td>-0.546277</td>\n",
       "      <td>-0.299585</td>\n",
       "      <td>0</td>\n",
       "    </tr>\n",
       "  </tbody>\n",
       "</table>"
      ],
      "text/plain": [
       "<IPython.core.display.HTML object>"
      ]
     },
     "metadata": {},
     "output_type": "display_data"
    }
   ],
   "source": [
    "    # First 5 rows using html display in order to view all the columns\n",
    "data = data\n",
    "display(HTML(data.head().to_html()))"
   ]
  },
  {
   "cell_type": "code",
   "execution_count": 4,
   "metadata": {},
   "outputs": [
    {
     "data": {
      "text/html": [
       "<table border=\"1\" class=\"dataframe\">\n",
       "  <thead>\n",
       "    <tr style=\"text-align: right;\">\n",
       "      <th></th>\n",
       "      <th>loan_status</th>\n",
       "      <th>funded_amnt</th>\n",
       "      <th>term</th>\n",
       "      <th>int_rate</th>\n",
       "      <th>emp_length</th>\n",
       "      <th>home_ownership</th>\n",
       "      <th>annual_inc</th>\n",
       "      <th>addr_state</th>\n",
       "      <th>inq_last_6mths</th>\n",
       "      <th>open_acc</th>\n",
       "      <th>revol_bal</th>\n",
       "      <th>revol_util</th>\n",
       "      <th>total_acc</th>\n",
       "      <th>acc_open_past_24mths</th>\n",
       "      <th>avg_cur_bal</th>\n",
       "      <th>bc_open_to_buy</th>\n",
       "      <th>bc_util</th>\n",
       "      <th>mo_sin_old_il_acct</th>\n",
       "      <th>mo_sin_old_rev_tl_op</th>\n",
       "      <th>mo_sin_rcnt_rev_tl_op</th>\n",
       "      <th>mo_sin_rcnt_tl</th>\n",
       "      <th>mort_acc</th>\n",
       "      <th>num_actv_bc_tl</th>\n",
       "      <th>num_actv_rev_tl</th>\n",
       "      <th>num_bc_tl</th>\n",
       "      <th>num_il_tl</th>\n",
       "      <th>num_tl_op_past_12m</th>\n",
       "      <th>pct_tl_nvr_dlq</th>\n",
       "      <th>total_il_high_credit_limit</th>\n",
       "      <th>debt_settlement_flag</th>\n",
       "    </tr>\n",
       "  </thead>\n",
       "  <tbody>\n",
       "    <tr>\n",
       "      <th>407314</th>\n",
       "      <td>0</td>\n",
       "      <td>-0.374080</td>\n",
       "      <td>0</td>\n",
       "      <td>0.536988</td>\n",
       "      <td>1</td>\n",
       "      <td>3</td>\n",
       "      <td>-0.775325</td>\n",
       "      <td>43</td>\n",
       "      <td>-0.706388</td>\n",
       "      <td>-0.547626</td>\n",
       "      <td>0.085279</td>\n",
       "      <td>0.500682</td>\n",
       "      <td>-0.696826</td>\n",
       "      <td>-1.214881</td>\n",
       "      <td>-0.713925</td>\n",
       "      <td>-0.021122</td>\n",
       "      <td>0.172943</td>\n",
       "      <td>-0.256889</td>\n",
       "      <td>0.026179</td>\n",
       "      <td>2.276281</td>\n",
       "      <td>0.064626</td>\n",
       "      <td>-0.857378</td>\n",
       "      <td>1.564998</td>\n",
       "      <td>0.425873</td>\n",
       "      <td>0.320760</td>\n",
       "      <td>-0.544362</td>\n",
       "      <td>-0.678161</td>\n",
       "      <td>0.677603</td>\n",
       "      <td>-0.967453</td>\n",
       "      <td>0</td>\n",
       "    </tr>\n",
       "    <tr>\n",
       "      <th>407315</th>\n",
       "      <td>1</td>\n",
       "      <td>-0.324121</td>\n",
       "      <td>0</td>\n",
       "      <td>-0.263631</td>\n",
       "      <td>10</td>\n",
       "      <td>1</td>\n",
       "      <td>-0.203355</td>\n",
       "      <td>35</td>\n",
       "      <td>-0.706388</td>\n",
       "      <td>0.186912</td>\n",
       "      <td>0.216125</td>\n",
       "      <td>0.697938</td>\n",
       "      <td>2.861810</td>\n",
       "      <td>1.961951</td>\n",
       "      <td>0.309115</td>\n",
       "      <td>-0.325507</td>\n",
       "      <td>0.266661</td>\n",
       "      <td>-0.101540</td>\n",
       "      <td>0.559014</td>\n",
       "      <td>-0.743603</td>\n",
       "      <td>-0.808388</td>\n",
       "      <td>-0.378278</td>\n",
       "      <td>0.166752</td>\n",
       "      <td>0.743283</td>\n",
       "      <td>-0.710421</td>\n",
       "      <td>4.135279</td>\n",
       "      <td>0.433265</td>\n",
       "      <td>0.469543</td>\n",
       "      <td>1.286272</td>\n",
       "      <td>0</td>\n",
       "    </tr>\n",
       "    <tr>\n",
       "      <th>407316</th>\n",
       "      <td>1</td>\n",
       "      <td>-0.206572</td>\n",
       "      <td>1</td>\n",
       "      <td>0.625946</td>\n",
       "      <td>5</td>\n",
       "      <td>3</td>\n",
       "      <td>-0.629290</td>\n",
       "      <td>42</td>\n",
       "      <td>-0.706388</td>\n",
       "      <td>-0.547626</td>\n",
       "      <td>-0.247588</td>\n",
       "      <td>0.345396</td>\n",
       "      <td>-0.365790</td>\n",
       "      <td>0.691219</td>\n",
       "      <td>-0.611946</td>\n",
       "      <td>-0.477221</td>\n",
       "      <td>0.515375</td>\n",
       "      <td>0.150903</td>\n",
       "      <td>-0.800258</td>\n",
       "      <td>-0.422339</td>\n",
       "      <td>-0.184807</td>\n",
       "      <td>-0.857378</td>\n",
       "      <td>0.166752</td>\n",
       "      <td>0.108463</td>\n",
       "      <td>-0.916657</td>\n",
       "      <td>0.391566</td>\n",
       "      <td>0.433265</td>\n",
       "      <td>0.677603</td>\n",
       "      <td>-0.231336</td>\n",
       "      <td>0</td>\n",
       "    </tr>\n",
       "    <tr>\n",
       "      <th>407317</th>\n",
       "      <td>1</td>\n",
       "      <td>-0.324121</td>\n",
       "      <td>1</td>\n",
       "      <td>1.515524</td>\n",
       "      <td>0</td>\n",
       "      <td>3</td>\n",
       "      <td>-0.182059</td>\n",
       "      <td>19</td>\n",
       "      <td>1.403049</td>\n",
       "      <td>0.921449</td>\n",
       "      <td>-0.375352</td>\n",
       "      <td>-0.943061</td>\n",
       "      <td>-0.531308</td>\n",
       "      <td>0.373535</td>\n",
       "      <td>-0.605756</td>\n",
       "      <td>-0.395424</td>\n",
       "      <td>-0.010889</td>\n",
       "      <td>-1.363752</td>\n",
       "      <td>-1.072112</td>\n",
       "      <td>-0.486592</td>\n",
       "      <td>-0.309523</td>\n",
       "      <td>-0.857378</td>\n",
       "      <td>0.632834</td>\n",
       "      <td>0.425873</td>\n",
       "      <td>-0.297949</td>\n",
       "      <td>-0.811770</td>\n",
       "      <td>-0.122448</td>\n",
       "      <td>0.065663</td>\n",
       "      <td>0.626566</td>\n",
       "      <td>0</td>\n",
       "    </tr>\n",
       "    <tr>\n",
       "      <th>407318</th>\n",
       "      <td>0</td>\n",
       "      <td>0.616276</td>\n",
       "      <td>0</td>\n",
       "      <td>-0.263631</td>\n",
       "      <td>1</td>\n",
       "      <td>3</td>\n",
       "      <td>0.359487</td>\n",
       "      <td>9</td>\n",
       "      <td>0.348331</td>\n",
       "      <td>-0.731260</td>\n",
       "      <td>0.775397</td>\n",
       "      <td>1.121827</td>\n",
       "      <td>-1.358898</td>\n",
       "      <td>-1.214881</td>\n",
       "      <td>-0.588653</td>\n",
       "      <td>-0.075745</td>\n",
       "      <td>0.655953</td>\n",
       "      <td>0.383927</td>\n",
       "      <td>-0.289172</td>\n",
       "      <td>-0.486592</td>\n",
       "      <td>-0.309523</td>\n",
       "      <td>-0.857378</td>\n",
       "      <td>0.632834</td>\n",
       "      <td>-0.208947</td>\n",
       "      <td>-0.297949</td>\n",
       "      <td>-1.079178</td>\n",
       "      <td>-0.678161</td>\n",
       "      <td>0.677603</td>\n",
       "      <td>-1.008758</td>\n",
       "      <td>0</td>\n",
       "    </tr>\n",
       "  </tbody>\n",
       "</table>"
      ],
      "text/plain": [
       "<IPython.core.display.HTML object>"
      ]
     },
     "metadata": {},
     "output_type": "display_data"
    }
   ],
   "source": [
    "    # Last 5 rows using html display in order to view all the columns\n",
    "data = data\n",
    "display(HTML(data.tail().to_html()))"
   ]
  },
  {
   "cell_type": "code",
   "execution_count": 5,
   "metadata": {},
   "outputs": [
    {
     "data": {
      "text/plain": [
       "(407319, 30)"
      ]
     },
     "execution_count": 5,
     "metadata": {},
     "output_type": "execute_result"
    }
   ],
   "source": [
    "    # Data dimension\n",
    "data.shape"
   ]
  },
  {
   "cell_type": "code",
   "execution_count": 6,
   "metadata": {},
   "outputs": [
    {
     "data": {
      "text/plain": [
       "0    318635\n",
       "1     88684\n",
       "Name: loan_status, dtype: int64"
      ]
     },
     "execution_count": 6,
     "metadata": {},
     "output_type": "execute_result"
    }
   ],
   "source": [
    "    # Loan status variable proportions\n",
    "data['loan_status'].value_counts()"
   ]
  },
  {
   "cell_type": "markdown",
   "metadata": {},
   "source": [
    "***"
   ]
  },
  {
   "cell_type": "markdown",
   "metadata": {},
   "source": [
    "## Data X & Data Y"
   ]
  },
  {
   "cell_type": "markdown",
   "metadata": {},
   "source": [
    "First of all, we have to create a new dataset without the variable we want to predict, in this case `loan_status`, this will be our *X Data*. The *Y Data* will be a vector with the `loan_status variable`."
   ]
  },
  {
   "cell_type": "code",
   "execution_count": 7,
   "metadata": {},
   "outputs": [
    {
     "data": {
      "text/plain": [
       "((407319, 29), (407319,))"
      ]
     },
     "execution_count": 7,
     "metadata": {},
     "output_type": "execute_result"
    }
   ],
   "source": [
    "    # Set X data\n",
    "X = data.drop(\"loan_status\", axis = 1)\n",
    "\n",
    "    # Set y data\n",
    "y = data[\"loan_status\"]\n",
    "\n",
    "    # Check dimensions\n",
    "X.shape, y.shape"
   ]
  },
  {
   "cell_type": "markdown",
   "metadata": {},
   "source": [
    "## One Hot Encoding"
   ]
  },
  {
   "cell_type": "markdown",
   "metadata": {},
   "source": [
    "**One Hot Encoding** is a common way of preprocessing categorical features for machine learning models. This type of encoding creates a new binary feature for each possible category and assigns a value of 1 to the feature of each sample that corresponds to its original category."
   ]
  },
  {
   "cell_type": "code",
   "execution_count": 8,
   "metadata": {},
   "outputs": [
    {
     "name": "stdout",
     "output_type": "stream",
     "text": [
      "<class 'pandas.core.frame.DataFrame'>\n",
      "RangeIndex: 407319 entries, 0 to 407318\n",
      "Data columns (total 29 columns):\n",
      " #   Column                      Non-Null Count   Dtype   \n",
      "---  ------                      --------------   -----   \n",
      " 0   funded_amnt                 407319 non-null  float64 \n",
      " 1   term                        407319 non-null  category\n",
      " 2   int_rate                    407319 non-null  float64 \n",
      " 3   emp_length                  407319 non-null  category\n",
      " 4   home_ownership              407319 non-null  category\n",
      " 5   annual_inc                  407319 non-null  float64 \n",
      " 6   addr_state                  407319 non-null  category\n",
      " 7   inq_last_6mths              407319 non-null  float64 \n",
      " 8   open_acc                    407319 non-null  float64 \n",
      " 9   revol_bal                   407319 non-null  float64 \n",
      " 10  revol_util                  407319 non-null  float64 \n",
      " 11  total_acc                   407319 non-null  float64 \n",
      " 12  acc_open_past_24mths        407319 non-null  float64 \n",
      " 13  avg_cur_bal                 407319 non-null  float64 \n",
      " 14  bc_open_to_buy              407319 non-null  float64 \n",
      " 15  bc_util                     407319 non-null  float64 \n",
      " 16  mo_sin_old_il_acct          407319 non-null  float64 \n",
      " 17  mo_sin_old_rev_tl_op        407319 non-null  float64 \n",
      " 18  mo_sin_rcnt_rev_tl_op       407319 non-null  float64 \n",
      " 19  mo_sin_rcnt_tl              407319 non-null  float64 \n",
      " 20  mort_acc                    407319 non-null  float64 \n",
      " 21  num_actv_bc_tl              407319 non-null  float64 \n",
      " 22  num_actv_rev_tl             407319 non-null  float64 \n",
      " 23  num_bc_tl                   407319 non-null  float64 \n",
      " 24  num_il_tl                   407319 non-null  float64 \n",
      " 25  num_tl_op_past_12m          407319 non-null  float64 \n",
      " 26  pct_tl_nvr_dlq              407319 non-null  float64 \n",
      " 27  total_il_high_credit_limit  407319 non-null  float64 \n",
      " 28  debt_settlement_flag        407319 non-null  category\n",
      "dtypes: category(5), float64(24)\n",
      "memory usage: 76.5 MB\n"
     ]
    }
   ],
   "source": [
    "    # Select those categorical columns\n",
    "columns_categ = ['term', 'home_ownership', 'emp_length', 'addr_state', 'debt_settlement_flag']\n",
    "    \n",
    "    # Below, we transform the variables into categorical with the astype function.\n",
    "X[columns_categ] = X[columns_categ].astype('category')\n",
    "\n",
    "    # Check the results\n",
    "X.info()"
   ]
  },
  {
   "cell_type": "code",
   "execution_count": 9,
   "metadata": {},
   "outputs": [
    {
     "data": {
      "text/html": [
       "<table border=\"1\" class=\"dataframe\">\n",
       "  <thead>\n",
       "    <tr style=\"text-align: right;\">\n",
       "      <th></th>\n",
       "      <th>loan_status</th>\n",
       "      <th>funded_amnt</th>\n",
       "      <th>term</th>\n",
       "      <th>int_rate</th>\n",
       "      <th>emp_length</th>\n",
       "      <th>home_ownership</th>\n",
       "      <th>annual_inc</th>\n",
       "      <th>addr_state</th>\n",
       "      <th>inq_last_6mths</th>\n",
       "      <th>open_acc</th>\n",
       "      <th>revol_bal</th>\n",
       "      <th>revol_util</th>\n",
       "      <th>total_acc</th>\n",
       "      <th>acc_open_past_24mths</th>\n",
       "      <th>avg_cur_bal</th>\n",
       "      <th>bc_open_to_buy</th>\n",
       "      <th>bc_util</th>\n",
       "      <th>mo_sin_old_il_acct</th>\n",
       "      <th>mo_sin_old_rev_tl_op</th>\n",
       "      <th>mo_sin_rcnt_rev_tl_op</th>\n",
       "      <th>mo_sin_rcnt_tl</th>\n",
       "      <th>mort_acc</th>\n",
       "      <th>num_actv_bc_tl</th>\n",
       "      <th>num_actv_rev_tl</th>\n",
       "      <th>num_bc_tl</th>\n",
       "      <th>num_il_tl</th>\n",
       "      <th>num_tl_op_past_12m</th>\n",
       "      <th>pct_tl_nvr_dlq</th>\n",
       "      <th>total_il_high_credit_limit</th>\n",
       "      <th>debt_settlement_flag</th>\n",
       "    </tr>\n",
       "  </thead>\n",
       "  <tbody>\n",
       "    <tr>\n",
       "      <th>407314</th>\n",
       "      <td>0</td>\n",
       "      <td>-0.374080</td>\n",
       "      <td>0</td>\n",
       "      <td>0.536988</td>\n",
       "      <td>1</td>\n",
       "      <td>3</td>\n",
       "      <td>-0.775325</td>\n",
       "      <td>43</td>\n",
       "      <td>-0.706388</td>\n",
       "      <td>-0.547626</td>\n",
       "      <td>0.085279</td>\n",
       "      <td>0.500682</td>\n",
       "      <td>-0.696826</td>\n",
       "      <td>-1.214881</td>\n",
       "      <td>-0.713925</td>\n",
       "      <td>-0.021122</td>\n",
       "      <td>0.172943</td>\n",
       "      <td>-0.256889</td>\n",
       "      <td>0.026179</td>\n",
       "      <td>2.276281</td>\n",
       "      <td>0.064626</td>\n",
       "      <td>-0.857378</td>\n",
       "      <td>1.564998</td>\n",
       "      <td>0.425873</td>\n",
       "      <td>0.320760</td>\n",
       "      <td>-0.544362</td>\n",
       "      <td>-0.678161</td>\n",
       "      <td>0.677603</td>\n",
       "      <td>-0.967453</td>\n",
       "      <td>0</td>\n",
       "    </tr>\n",
       "    <tr>\n",
       "      <th>407315</th>\n",
       "      <td>1</td>\n",
       "      <td>-0.324121</td>\n",
       "      <td>0</td>\n",
       "      <td>-0.263631</td>\n",
       "      <td>10</td>\n",
       "      <td>1</td>\n",
       "      <td>-0.203355</td>\n",
       "      <td>35</td>\n",
       "      <td>-0.706388</td>\n",
       "      <td>0.186912</td>\n",
       "      <td>0.216125</td>\n",
       "      <td>0.697938</td>\n",
       "      <td>2.861810</td>\n",
       "      <td>1.961951</td>\n",
       "      <td>0.309115</td>\n",
       "      <td>-0.325507</td>\n",
       "      <td>0.266661</td>\n",
       "      <td>-0.101540</td>\n",
       "      <td>0.559014</td>\n",
       "      <td>-0.743603</td>\n",
       "      <td>-0.808388</td>\n",
       "      <td>-0.378278</td>\n",
       "      <td>0.166752</td>\n",
       "      <td>0.743283</td>\n",
       "      <td>-0.710421</td>\n",
       "      <td>4.135279</td>\n",
       "      <td>0.433265</td>\n",
       "      <td>0.469543</td>\n",
       "      <td>1.286272</td>\n",
       "      <td>0</td>\n",
       "    </tr>\n",
       "    <tr>\n",
       "      <th>407316</th>\n",
       "      <td>1</td>\n",
       "      <td>-0.206572</td>\n",
       "      <td>1</td>\n",
       "      <td>0.625946</td>\n",
       "      <td>5</td>\n",
       "      <td>3</td>\n",
       "      <td>-0.629290</td>\n",
       "      <td>42</td>\n",
       "      <td>-0.706388</td>\n",
       "      <td>-0.547626</td>\n",
       "      <td>-0.247588</td>\n",
       "      <td>0.345396</td>\n",
       "      <td>-0.365790</td>\n",
       "      <td>0.691219</td>\n",
       "      <td>-0.611946</td>\n",
       "      <td>-0.477221</td>\n",
       "      <td>0.515375</td>\n",
       "      <td>0.150903</td>\n",
       "      <td>-0.800258</td>\n",
       "      <td>-0.422339</td>\n",
       "      <td>-0.184807</td>\n",
       "      <td>-0.857378</td>\n",
       "      <td>0.166752</td>\n",
       "      <td>0.108463</td>\n",
       "      <td>-0.916657</td>\n",
       "      <td>0.391566</td>\n",
       "      <td>0.433265</td>\n",
       "      <td>0.677603</td>\n",
       "      <td>-0.231336</td>\n",
       "      <td>0</td>\n",
       "    </tr>\n",
       "    <tr>\n",
       "      <th>407317</th>\n",
       "      <td>1</td>\n",
       "      <td>-0.324121</td>\n",
       "      <td>1</td>\n",
       "      <td>1.515524</td>\n",
       "      <td>0</td>\n",
       "      <td>3</td>\n",
       "      <td>-0.182059</td>\n",
       "      <td>19</td>\n",
       "      <td>1.403049</td>\n",
       "      <td>0.921449</td>\n",
       "      <td>-0.375352</td>\n",
       "      <td>-0.943061</td>\n",
       "      <td>-0.531308</td>\n",
       "      <td>0.373535</td>\n",
       "      <td>-0.605756</td>\n",
       "      <td>-0.395424</td>\n",
       "      <td>-0.010889</td>\n",
       "      <td>-1.363752</td>\n",
       "      <td>-1.072112</td>\n",
       "      <td>-0.486592</td>\n",
       "      <td>-0.309523</td>\n",
       "      <td>-0.857378</td>\n",
       "      <td>0.632834</td>\n",
       "      <td>0.425873</td>\n",
       "      <td>-0.297949</td>\n",
       "      <td>-0.811770</td>\n",
       "      <td>-0.122448</td>\n",
       "      <td>0.065663</td>\n",
       "      <td>0.626566</td>\n",
       "      <td>0</td>\n",
       "    </tr>\n",
       "    <tr>\n",
       "      <th>407318</th>\n",
       "      <td>0</td>\n",
       "      <td>0.616276</td>\n",
       "      <td>0</td>\n",
       "      <td>-0.263631</td>\n",
       "      <td>1</td>\n",
       "      <td>3</td>\n",
       "      <td>0.359487</td>\n",
       "      <td>9</td>\n",
       "      <td>0.348331</td>\n",
       "      <td>-0.731260</td>\n",
       "      <td>0.775397</td>\n",
       "      <td>1.121827</td>\n",
       "      <td>-1.358898</td>\n",
       "      <td>-1.214881</td>\n",
       "      <td>-0.588653</td>\n",
       "      <td>-0.075745</td>\n",
       "      <td>0.655953</td>\n",
       "      <td>0.383927</td>\n",
       "      <td>-0.289172</td>\n",
       "      <td>-0.486592</td>\n",
       "      <td>-0.309523</td>\n",
       "      <td>-0.857378</td>\n",
       "      <td>0.632834</td>\n",
       "      <td>-0.208947</td>\n",
       "      <td>-0.297949</td>\n",
       "      <td>-1.079178</td>\n",
       "      <td>-0.678161</td>\n",
       "      <td>0.677603</td>\n",
       "      <td>-1.008758</td>\n",
       "      <td>0</td>\n",
       "    </tr>\n",
       "  </tbody>\n",
       "</table>"
      ],
      "text/plain": [
       "<IPython.core.display.HTML object>"
      ]
     },
     "metadata": {},
     "output_type": "display_data"
    }
   ],
   "source": [
    "    # One Hot Enconding, droping the first column in order to save K-1 \n",
    "X = pd.get_dummies(X, drop_first=True)\n",
    "\n",
    "    # Check results\n",
    "display(HTML(data.tail().to_html()))"
   ]
  },
  {
   "cell_type": "markdown",
   "metadata": {},
   "source": [
    "## Train, Validation & Test"
   ]
  },
  {
   "cell_type": "markdown",
   "metadata": {},
   "source": [
    "- **Training Dataset**: The sample of data used to fit the model.\n",
    "\n",
    "- **Validation Dataset**: The sample of data used to provide an unbiased evaluation of a model fit on the training dataset while tuning model hyperparameters. The evaluation becomes more biased as skill on the validation dataset is incorporated into the model configuration.\n",
    "\n",
    "- **Test Dataset**: The sample of data used to provide an unbiased evaluation of a final model fit on the training dataset."
   ]
  },
  {
   "cell_type": "markdown",
   "metadata": {},
   "source": [
    "![Image](https://miro.medium.com/max/3000/1*Nv2NNALuokZEcV6hYEHdGA.png)"
   ]
  },
  {
   "cell_type": "markdown",
   "metadata": {},
   "source": [
    "We will use the next data proportion:\n",
    "\n",
    "- **Training**: 70 %\n",
    "- **Validation**: 15 %\n",
    "- **Test**: 15 %"
   ]
  },
  {
   "cell_type": "code",
   "execution_count": 10,
   "metadata": {},
   "outputs": [
    {
     "data": {
      "text/plain": [
       "((285123, 90), (122196, 90), (285123,), (122196,))"
      ]
     },
     "execution_count": 10,
     "metadata": {},
     "output_type": "execute_result"
    }
   ],
   "source": [
    "    # First we will define our training and test dataset\n",
    "X_train, X_test, y_train, y_test = train_test_split(X, y, test_size = 0.3, random_state = 1322)\n",
    "\n",
    "    # Check dimensions\n",
    "X_train.shape, X_test.shape, y_train.shape, y_test.shape"
   ]
  },
  {
   "cell_type": "code",
   "execution_count": 11,
   "metadata": {},
   "outputs": [
    {
     "data": {
      "text/plain": [
       "((61098, 90), (61098, 90), (61098,), (61098,))"
      ]
     },
     "execution_count": 11,
     "metadata": {},
     "output_type": "execute_result"
    }
   ],
   "source": [
    "    # From the test data, we divide it into validation and test\n",
    "X_test, X_val, y_test, y_val = train_test_split(X_test, y_test, test_size = 0.5, random_state = 1322)\n",
    "    \n",
    "    # Check dimensions\n",
    "X_test.shape, X_val.shape, y_test.shape, y_val.shape"
   ]
  },
  {
   "cell_type": "markdown",
   "metadata": {},
   "source": [
    "## Influential Outliers"
   ]
  },
  {
   "cell_type": "markdown",
   "metadata": {},
   "source": [
    "Return the anomaly score of each sample using the IsolationForest algorithm\n",
    "\n",
    "The IsolationForest ‘isolates’ observations by randomly selecting a feature and then randomly selecting a split value between the maximum and minimum values of the selected feature."
   ]
  },
  {
   "cell_type": "code",
   "execution_count": 12,
   "metadata": {},
   "outputs": [
    {
     "data": {
      "text/plain": [
       "((256610, 90), (256610,))"
      ]
     },
     "execution_count": 12,
     "metadata": {},
     "output_type": "execute_result"
    }
   ],
   "source": [
    "    # Define the isolationForest params\n",
    "iso = IsolationForest(max_samples = 100, contamination = 0.1, random_state = 1322)\n",
    "\n",
    "    # Predict those outliers\n",
    "yhat = iso.fit_predict(X_train)\n",
    "\n",
    "    # We create a mask with the outliers and then we drop them\n",
    "mask = yhat != -1\n",
    "X_train, y_train = X_train[mask], y_train[mask]\n",
    "\n",
    "    # Finally, check the shapes\n",
    "X_train.shape, y_train.shape"
   ]
  },
  {
   "cell_type": "markdown",
   "metadata": {},
   "source": [
    "***"
   ]
  },
  {
   "cell_type": "markdown",
   "metadata": {},
   "source": [
    "### Save data"
   ]
  },
  {
   "cell_type": "code",
   "execution_count": 13,
   "metadata": {},
   "outputs": [],
   "source": [
    "    # Training data\n",
    "data = X_train\n",
    "data.to_csv('X_train.csv', header = True, index = False)\n",
    "\n",
    "data = y_train\n",
    "data.to_csv('y_train.csv', header = True, index = False)\n",
    "\n",
    "    # Validation data\n",
    "data = X_val\n",
    "data.to_csv('X_val.csv', header = True, index = False)\n",
    "\n",
    "data = y_val\n",
    "data.to_csv('y_val.csv', header = True, index = False)\n",
    "\n",
    "    # Test data\n",
    "data = X_test\n",
    "data.to_csv('X_test.csv', header = True, index = False)\n",
    "\n",
    "data = y_test\n",
    "data.to_csv('y_test.csv', header = True, index = False)"
   ]
  }
 ],
 "metadata": {
  "kernelspec": {
   "display_name": "lending_club",
   "language": "python",
   "name": "lending_club"
  },
  "language_info": {
   "codemirror_mode": {
    "name": "ipython",
    "version": 3
   },
   "file_extension": ".py",
   "mimetype": "text/x-python",
   "name": "python",
   "nbconvert_exporter": "python",
   "pygments_lexer": "ipython3",
   "version": "3.8.5"
  }
 },
 "nbformat": 4,
 "nbformat_minor": 4
}
