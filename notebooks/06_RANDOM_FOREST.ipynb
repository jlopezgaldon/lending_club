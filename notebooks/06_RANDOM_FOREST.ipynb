{
 "cells": [
  {
   "cell_type": "markdown",
   "metadata": {},
   "source": [
    "### Title: \n",
    "# Random Forest"
   ]
  },
  {
   "cell_type": "markdown",
   "metadata": {},
   "source": [
    "### Description:\n",
    "Random forests is a supervised learning algorithm. It can be used both for classification and regression. It is also the most flexible and easy to use algorithm. A forest is comprised of trees. It is said that the more trees it has, the more robust a forest is. Random forests creates decision trees on randomly selected data samples, gets prediction from each tree and selects the best solution by means of voting. It also provides a pretty good indicator of the feature importance.\n",
    "\n",
    "In this notebook, we will perform the Randon Forest algorithm from the scikit-learn package, plot the confussion matrix and the ROC-AUC curve"
   ]
  },
  {
   "cell_type": "markdown",
   "metadata": {},
   "source": [
    "### Authors:\n",
    "#### Hugo Cesar Octavio del Sueldo\n",
    "#### Jose Lopez Galdon"
   ]
  },
  {
   "cell_type": "markdown",
   "metadata": {},
   "source": [
    "### Date:\n",
    "04/12/2020"
   ]
  },
  {
   "cell_type": "markdown",
   "metadata": {},
   "source": [
    "### Version:\n",
    "2.0"
   ]
  },
  {
   "cell_type": "markdown",
   "metadata": {},
   "source": [
    "***"
   ]
  },
  {
   "cell_type": "markdown",
   "metadata": {},
   "source": [
    "### Libraries"
   ]
  },
  {
   "cell_type": "code",
   "execution_count": 19,
   "metadata": {},
   "outputs": [],
   "source": [
    "    # Numpy & Pandas to work with the DF\n",
    "import numpy as np\n",
    "import pandas as pd\n",
    "\n",
    "    # Seaborn / matplotlib for graphs\n",
    "import seaborn as sns\n",
    "import matplotlib.pyplot as plt \n",
    "%matplotlib inline\n",
    "\n",
    "    # Import Sklearn\n",
    "from sklearn.ensemble import RandomForestClassifier\n",
    "from sklearn import metrics\n",
    "from sklearn.metrics import confusion_matrix\n",
    "from sklearn.metrics import plot_confusion_matrix\n",
    "from sklearn.metrics import classification_report\n",
    "from sklearn.metrics import roc_auc_score\n",
    "from sklearn.metrics import roc_curve\n",
    "from sklearn.metrics import average_precision_score\n",
    "from sklearn.metrics import precision_recall_curve\n",
    "from sklearn.metrics import plot_precision_recall_curve\n",
    "from sklearn.metrics import f1_score\n",
    "from sklearn.metrics import auc\n",
    "import itertools\n",
    "import scikitplot as skplt\n",
    "\n",
    "    # Visualize DF\n",
    "from IPython.display import display, HTML\n",
    "\n",
    "    #Import pickle\n",
    "import pickle"
   ]
  },
  {
   "cell_type": "markdown",
   "metadata": {},
   "source": [
    "### Functions"
   ]
  },
  {
   "cell_type": "code",
   "execution_count": 5,
   "metadata": {},
   "outputs": [],
   "source": [
    "'''\n",
    "This function prints and plots the confusion matrix:\n",
    "\n",
    "cm = confussion_matrix using the prediction values\n",
    "classes = name of the labels\n",
    "cmap & tittle color map and tittle of the plot\n",
    "'''\n",
    "def plot_confusion_matrix(model_predictions, model_name,normalize = False): \n",
    "    cm = confusion_matrix(y_val, model_predictions, labels = [0, 1])\n",
    "    classes=['Fully Pay', 'Non-payment']\n",
    "    cmap = plt.cm.Reds\n",
    "    title = f'{model_name} Confusion Matrix'\n",
    "    fontsize = 12\n",
    "    fontsize_lab = 15\n",
    "    fontsize_tit = 20\n",
    "    if normalize:\n",
    "        cm = cm.astype('float') / cm.sum(axis=1)[:, np.newaxis]\n",
    "        cm = np.around(cm, decimals = 3)\n",
    "        \n",
    "        # Plot params\n",
    "    plt.imshow(cm, interpolation = 'nearest', cmap = cmap)\n",
    "    plt.title(title, fontsize = fontsize_tit)\n",
    "    plt.colorbar()\n",
    "    tick_marks = np.arange(len(classes))\n",
    "    plt.xticks(tick_marks, classes, rotation = 0, fontsize = fontsize)\n",
    "    plt.yticks(tick_marks, classes, fontsize = fontsize)\n",
    "    \n",
    "        # Itercool params\n",
    "    thresh = cm.max() / 2.\n",
    "    for i, j in itertools.product(range(cm.shape[0]), range(cm.shape[1])):\n",
    "        plt.text(j, i, cm[i, j],\n",
    "                 horizontalalignment = 'center',\n",
    "                 color = 'white' if cm[i, j] > thresh else 'black')\n",
    "    plt.tight_layout()\n",
    "    plt.ylabel('True label', fontsize = fontsize_lab)\n",
    "    plt.xlabel('Predicted label', fontsize = fontsize_lab)"
   ]
  },
  {
   "cell_type": "markdown",
   "metadata": {},
   "source": [
    "### Load data"
   ]
  },
  {
   "cell_type": "code",
   "execution_count": 6,
   "metadata": {},
   "outputs": [],
   "source": [
    "    # To automate the work as much as possible, we will parameterize the codes, so in this case, we will create an objetct with\n",
    "    # the path root\n",
    "name = 'X_train'\n",
    "\n",
    "X_train = pd.read_csv(f'../data/03_processed/{name}.csv',  # Path root: here we include an f-string with the variable name\n",
    "                   low_memory = False)                     # To avoid warnings we use set low_memory = False\n",
    "\n",
    "name = 'Y_train'\n",
    "\n",
    "y_train = pd.read_csv(f'../data/03_processed/{name}.csv',  # Path root: here we include an f-string with the variable name\n",
    "                   low_memory = False)                     # To avoid warnings we use set low_memory = False\n",
    "\n",
    "name = 'X_val'\n",
    "\n",
    "X_val = pd.read_csv(f'../data/03_processed/{name}.csv',    # Path root: here we include an f-string with the variable name\n",
    "                   low_memory = False)                     # To avoid warnings we use set low_memory = False\n",
    "\n",
    "name = 'Y_val'\n",
    "\n",
    "y_val = pd.read_csv(f'../data/03_processed/{name}.csv',    # Path root: here we include an f-string with the variable name\n",
    "                   low_memory = False)                     # To avoid warnings we use set low_memory = False"
   ]
  },
  {
   "cell_type": "code",
   "execution_count": 7,
   "metadata": {},
   "outputs": [],
   "source": [
    "    # Transform to 1d array\n",
    "y_train = np.ravel(y_train)"
   ]
  },
  {
   "cell_type": "markdown",
   "metadata": {},
   "source": [
    "### Random Forest Prediction"
   ]
  },
  {
   "cell_type": "code",
   "execution_count": 8,
   "metadata": {},
   "outputs": [
    {
     "name": "stdout",
     "output_type": "stream",
     "text": [
      "Accuracy of Random Forest classifier on test set: 0.76464\n",
      "CPU times: user 29min 30s, sys: 31.7 s, total: 30min 2s\n",
      "Wall time: 8min 11s\n"
     ]
    }
   ],
   "source": [
    "%%time\n",
    "    # Train\n",
    "rfreg = RandomForestClassifier(n_estimators = 1000, random_state = 1322, n_jobs = -1)\n",
    "rfreg.fit(X_train, y_train)\n",
    "\n",
    "    # Predict with the test and calculate tha accuracy\n",
    "y_pred = rfreg.predict(X_val)\n",
    "\n",
    "print('Accuracy of Random Forest classifier on test set: {:.5f}'.format(rfreg.score(X_val, y_val)))"
   ]
  },
  {
   "cell_type": "markdown",
   "metadata": {},
   "source": [
    "### Importance columns"
   ]
  },
  {
   "cell_type": "code",
   "execution_count": 9,
   "metadata": {
    "scrolled": true
   },
   "outputs": [
    {
     "data": {
      "text/html": [
       "<table border=\"1\" class=\"dataframe\">\n",
       "  <thead>\n",
       "    <tr style=\"text-align: right;\">\n",
       "      <th></th>\n",
       "      <th>Importance</th>\n",
       "    </tr>\n",
       "  </thead>\n",
       "  <tbody>\n",
       "    <tr>\n",
       "      <th>int_rate</th>\n",
       "      <td>5.221715e-02</td>\n",
       "    </tr>\n",
       "    <tr>\n",
       "      <th>dti</th>\n",
       "      <td>4.595935e-02</td>\n",
       "    </tr>\n",
       "    <tr>\n",
       "      <th>avg_cur_bal</th>\n",
       "      <td>4.081376e-02</td>\n",
       "    </tr>\n",
       "    <tr>\n",
       "      <th>bc_open_to_buy</th>\n",
       "      <td>3.898797e-02</td>\n",
       "    </tr>\n",
       "    <tr>\n",
       "      <th>mo_sin_old_rev_tl_op</th>\n",
       "      <td>3.853521e-02</td>\n",
       "    </tr>\n",
       "    <tr>\n",
       "      <th>revol_bal</th>\n",
       "      <td>3.720397e-02</td>\n",
       "    </tr>\n",
       "    <tr>\n",
       "      <th>bc_util</th>\n",
       "      <td>3.708976e-02</td>\n",
       "    </tr>\n",
       "    <tr>\n",
       "      <th>revol_util</th>\n",
       "      <td>3.695620e-02</td>\n",
       "    </tr>\n",
       "    <tr>\n",
       "      <th>annual_inc</th>\n",
       "      <td>3.659129e-02</td>\n",
       "    </tr>\n",
       "    <tr>\n",
       "      <th>mo_sin_old_il_acct</th>\n",
       "      <td>3.658278e-02</td>\n",
       "    </tr>\n",
       "    <tr>\n",
       "      <th>funded_amnt</th>\n",
       "      <td>3.556459e-02</td>\n",
       "    </tr>\n",
       "    <tr>\n",
       "      <th>total_il_high_credit_limit</th>\n",
       "      <td>3.490091e-02</td>\n",
       "    </tr>\n",
       "    <tr>\n",
       "      <th>grade</th>\n",
       "      <td>3.130657e-02</td>\n",
       "    </tr>\n",
       "    <tr>\n",
       "      <th>total_acc</th>\n",
       "      <td>2.989682e-02</td>\n",
       "    </tr>\n",
       "    <tr>\n",
       "      <th>fico_range_low</th>\n",
       "      <td>2.766193e-02</td>\n",
       "    </tr>\n",
       "    <tr>\n",
       "      <th>mo_sin_rcnt_rev_tl_op</th>\n",
       "      <td>2.710535e-02</td>\n",
       "    </tr>\n",
       "    <tr>\n",
       "      <th>num_il_tl</th>\n",
       "      <td>2.587874e-02</td>\n",
       "    </tr>\n",
       "    <tr>\n",
       "      <th>num_bc_tl</th>\n",
       "      <td>2.493563e-02</td>\n",
       "    </tr>\n",
       "    <tr>\n",
       "      <th>open_acc</th>\n",
       "      <td>2.478960e-02</td>\n",
       "    </tr>\n",
       "    <tr>\n",
       "      <th>mo_sin_rcnt_tl</th>\n",
       "      <td>2.444316e-02</td>\n",
       "    </tr>\n",
       "    <tr>\n",
       "      <th>term</th>\n",
       "      <td>2.310682e-02</td>\n",
       "    </tr>\n",
       "    <tr>\n",
       "      <th>acc_open_past_24mths</th>\n",
       "      <td>2.239283e-02</td>\n",
       "    </tr>\n",
       "    <tr>\n",
       "      <th>emp_length</th>\n",
       "      <td>2.207889e-02</td>\n",
       "    </tr>\n",
       "    <tr>\n",
       "      <th>num_actv_rev_tl</th>\n",
       "      <td>2.173235e-02</td>\n",
       "    </tr>\n",
       "    <tr>\n",
       "      <th>pct_tl_nvr_dlq</th>\n",
       "      <td>2.081375e-02</td>\n",
       "    </tr>\n",
       "    <tr>\n",
       "      <th>num_actv_bc_tl</th>\n",
       "      <td>1.830333e-02</td>\n",
       "    </tr>\n",
       "    <tr>\n",
       "      <th>num_tl_op_past_12m</th>\n",
       "      <td>1.589933e-02</td>\n",
       "    </tr>\n",
       "    <tr>\n",
       "      <th>mort_acc</th>\n",
       "      <td>1.475039e-02</td>\n",
       "    </tr>\n",
       "    <tr>\n",
       "      <th>inq_last_6mths</th>\n",
       "      <td>1.095742e-02</td>\n",
       "    </tr>\n",
       "    <tr>\n",
       "      <th>num_accts_ever_120_pd</th>\n",
       "      <td>8.574107e-03</td>\n",
       "    </tr>\n",
       "    <tr>\n",
       "      <th>delinq_2yrs</th>\n",
       "      <td>7.247465e-03</td>\n",
       "    </tr>\n",
       "    <tr>\n",
       "      <th>verification_status_1</th>\n",
       "      <td>5.446158e-03</td>\n",
       "    </tr>\n",
       "    <tr>\n",
       "      <th>verification_status_2</th>\n",
       "      <td>5.065353e-03</td>\n",
       "    </tr>\n",
       "    <tr>\n",
       "      <th>home_ownership_3</th>\n",
       "      <td>4.553460e-03</td>\n",
       "    </tr>\n",
       "    <tr>\n",
       "      <th>mths_since_last_delinq</th>\n",
       "      <td>4.539361e-03</td>\n",
       "    </tr>\n",
       "    <tr>\n",
       "      <th>pub_rec</th>\n",
       "      <td>4.531066e-03</td>\n",
       "    </tr>\n",
       "    <tr>\n",
       "      <th>mths_since_recent_bc_dlq</th>\n",
       "      <td>4.460212e-03</td>\n",
       "    </tr>\n",
       "    <tr>\n",
       "      <th>addr_state_4</th>\n",
       "      <td>4.430123e-03</td>\n",
       "    </tr>\n",
       "    <tr>\n",
       "      <th>home_ownership_1</th>\n",
       "      <td>4.186292e-03</td>\n",
       "    </tr>\n",
       "    <tr>\n",
       "      <th>addr_state_34</th>\n",
       "      <td>3.886484e-03</td>\n",
       "    </tr>\n",
       "    <tr>\n",
       "      <th>pub_rec_bankruptcies</th>\n",
       "      <td>3.519706e-03</td>\n",
       "    </tr>\n",
       "    <tr>\n",
       "      <th>addr_state_43</th>\n",
       "      <td>3.484905e-03</td>\n",
       "    </tr>\n",
       "    <tr>\n",
       "      <th>addr_state_9</th>\n",
       "      <td>3.426418e-03</td>\n",
       "    </tr>\n",
       "    <tr>\n",
       "      <th>mths_since_last_record</th>\n",
       "      <td>3.227193e-03</td>\n",
       "    </tr>\n",
       "    <tr>\n",
       "      <th>home_ownership_2</th>\n",
       "      <td>2.825580e-03</td>\n",
       "    </tr>\n",
       "    <tr>\n",
       "      <th>num_tl_90g_dpd_24m</th>\n",
       "      <td>2.789374e-03</td>\n",
       "    </tr>\n",
       "    <tr>\n",
       "      <th>open_act_il</th>\n",
       "      <td>2.514043e-03</td>\n",
       "    </tr>\n",
       "    <tr>\n",
       "      <th>addr_state_31</th>\n",
       "      <td>2.482099e-03</td>\n",
       "    </tr>\n",
       "    <tr>\n",
       "      <th>addr_state_38</th>\n",
       "      <td>2.456091e-03</td>\n",
       "    </tr>\n",
       "    <tr>\n",
       "      <th>addr_state_35</th>\n",
       "      <td>2.317909e-03</td>\n",
       "    </tr>\n",
       "    <tr>\n",
       "      <th>addr_state_14</th>\n",
       "      <td>2.310687e-03</td>\n",
       "    </tr>\n",
       "    <tr>\n",
       "      <th>open_rv_24m</th>\n",
       "      <td>2.262826e-03</td>\n",
       "    </tr>\n",
       "    <tr>\n",
       "      <th>addr_state_45</th>\n",
       "      <td>2.102265e-03</td>\n",
       "    </tr>\n",
       "    <tr>\n",
       "      <th>addr_state_27</th>\n",
       "      <td>2.013840e-03</td>\n",
       "    </tr>\n",
       "    <tr>\n",
       "      <th>addr_state_10</th>\n",
       "      <td>1.957265e-03</td>\n",
       "    </tr>\n",
       "    <tr>\n",
       "      <th>inq_last_12m</th>\n",
       "      <td>1.937446e-03</td>\n",
       "    </tr>\n",
       "    <tr>\n",
       "      <th>addr_state_20</th>\n",
       "      <td>1.904217e-03</td>\n",
       "    </tr>\n",
       "    <tr>\n",
       "      <th>tax_liens</th>\n",
       "      <td>1.896492e-03</td>\n",
       "    </tr>\n",
       "    <tr>\n",
       "      <th>addr_state_22</th>\n",
       "      <td>1.869965e-03</td>\n",
       "    </tr>\n",
       "    <tr>\n",
       "      <th>addr_state_3</th>\n",
       "      <td>1.857800e-03</td>\n",
       "    </tr>\n",
       "    <tr>\n",
       "      <th>open_il_24m</th>\n",
       "      <td>1.817602e-03</td>\n",
       "    </tr>\n",
       "    <tr>\n",
       "      <th>addr_state_19</th>\n",
       "      <td>1.736052e-03</td>\n",
       "    </tr>\n",
       "    <tr>\n",
       "      <th>addr_state_24</th>\n",
       "      <td>1.596297e-03</td>\n",
       "    </tr>\n",
       "    <tr>\n",
       "      <th>addr_state_23</th>\n",
       "      <td>1.592042e-03</td>\n",
       "    </tr>\n",
       "    <tr>\n",
       "      <th>addr_state_33</th>\n",
       "      <td>1.543294e-03</td>\n",
       "    </tr>\n",
       "    <tr>\n",
       "      <th>addr_state_42</th>\n",
       "      <td>1.465940e-03</td>\n",
       "    </tr>\n",
       "    <tr>\n",
       "      <th>addr_state_5</th>\n",
       "      <td>1.455255e-03</td>\n",
       "    </tr>\n",
       "    <tr>\n",
       "      <th>addr_state_15</th>\n",
       "      <td>1.452476e-03</td>\n",
       "    </tr>\n",
       "    <tr>\n",
       "      <th>addr_state_47</th>\n",
       "      <td>1.446456e-03</td>\n",
       "    </tr>\n",
       "    <tr>\n",
       "      <th>addr_state_18</th>\n",
       "      <td>1.445708e-03</td>\n",
       "    </tr>\n",
       "    <tr>\n",
       "      <th>collections_12_mths_ex_med</th>\n",
       "      <td>1.412840e-03</td>\n",
       "    </tr>\n",
       "    <tr>\n",
       "      <th>addr_state_1</th>\n",
       "      <td>1.381343e-03</td>\n",
       "    </tr>\n",
       "    <tr>\n",
       "      <th>addr_state_6</th>\n",
       "      <td>1.245357e-03</td>\n",
       "    </tr>\n",
       "    <tr>\n",
       "      <th>addr_state_36</th>\n",
       "      <td>1.225552e-03</td>\n",
       "    </tr>\n",
       "    <tr>\n",
       "      <th>open_acc_6m</th>\n",
       "      <td>1.144722e-03</td>\n",
       "    </tr>\n",
       "    <tr>\n",
       "      <th>addr_state_17</th>\n",
       "      <td>1.124511e-03</td>\n",
       "    </tr>\n",
       "    <tr>\n",
       "      <th>addr_state_2</th>\n",
       "      <td>1.061724e-03</td>\n",
       "    </tr>\n",
       "    <tr>\n",
       "      <th>addr_state_48</th>\n",
       "      <td>1.026220e-03</td>\n",
       "    </tr>\n",
       "    <tr>\n",
       "      <th>addr_state_37</th>\n",
       "      <td>9.465098e-04</td>\n",
       "    </tr>\n",
       "    <tr>\n",
       "      <th>addr_state_40</th>\n",
       "      <td>8.729730e-04</td>\n",
       "    </tr>\n",
       "    <tr>\n",
       "      <th>addr_state_25</th>\n",
       "      <td>8.183864e-04</td>\n",
       "    </tr>\n",
       "    <tr>\n",
       "      <th>addr_state_16</th>\n",
       "      <td>7.867041e-04</td>\n",
       "    </tr>\n",
       "    <tr>\n",
       "      <th>addr_state_32</th>\n",
       "      <td>7.600706e-04</td>\n",
       "    </tr>\n",
       "    <tr>\n",
       "      <th>addr_state_44</th>\n",
       "      <td>7.407864e-04</td>\n",
       "    </tr>\n",
       "    <tr>\n",
       "      <th>chargeoff_within_12_mths</th>\n",
       "      <td>6.949207e-04</td>\n",
       "    </tr>\n",
       "    <tr>\n",
       "      <th>addr_state_11</th>\n",
       "      <td>6.552126e-04</td>\n",
       "    </tr>\n",
       "    <tr>\n",
       "      <th>addr_state_39</th>\n",
       "      <td>6.285801e-04</td>\n",
       "    </tr>\n",
       "    <tr>\n",
       "      <th>delinq_amnt</th>\n",
       "      <td>4.803590e-04</td>\n",
       "    </tr>\n",
       "    <tr>\n",
       "      <th>addr_state_49</th>\n",
       "      <td>4.692754e-04</td>\n",
       "    </tr>\n",
       "    <tr>\n",
       "      <th>addr_state_30</th>\n",
       "      <td>4.657051e-04</td>\n",
       "    </tr>\n",
       "    <tr>\n",
       "      <th>acc_now_delinq</th>\n",
       "      <td>4.279187e-04</td>\n",
       "    </tr>\n",
       "    <tr>\n",
       "      <th>addr_state_26</th>\n",
       "      <td>4.209023e-04</td>\n",
       "    </tr>\n",
       "    <tr>\n",
       "      <th>addr_state_8</th>\n",
       "      <td>3.831613e-04</td>\n",
       "    </tr>\n",
       "    <tr>\n",
       "      <th>addr_state_41</th>\n",
       "      <td>3.472702e-04</td>\n",
       "    </tr>\n",
       "    <tr>\n",
       "      <th>addr_state_29</th>\n",
       "      <td>3.289381e-04</td>\n",
       "    </tr>\n",
       "    <tr>\n",
       "      <th>addr_state_50</th>\n",
       "      <td>3.200577e-04</td>\n",
       "    </tr>\n",
       "    <tr>\n",
       "      <th>addr_state_7</th>\n",
       "      <td>2.639250e-04</td>\n",
       "    </tr>\n",
       "    <tr>\n",
       "      <th>addr_state_46</th>\n",
       "      <td>2.316308e-04</td>\n",
       "    </tr>\n",
       "    <tr>\n",
       "      <th>addr_state_28</th>\n",
       "      <td>1.447979e-04</td>\n",
       "    </tr>\n",
       "    <tr>\n",
       "      <th>addr_state_21</th>\n",
       "      <td>7.807073e-05</td>\n",
       "    </tr>\n",
       "    <tr>\n",
       "      <th>addr_state_13</th>\n",
       "      <td>2.828589e-05</td>\n",
       "    </tr>\n",
       "    <tr>\n",
       "      <th>addr_state_12</th>\n",
       "      <td>8.123767e-08</td>\n",
       "    </tr>\n",
       "  </tbody>\n",
       "</table>"
      ],
      "text/plain": [
       "<IPython.core.display.HTML object>"
      ]
     },
     "metadata": {},
     "output_type": "display_data"
    }
   ],
   "source": [
    "importance = pd.DataFrame(rfreg.feature_importances_, \n",
    "                          X_val.columns, \n",
    "                          columns = ['Importance']).sort_values(by = ['Importance'], \n",
    "                                                                ascending = False)\n",
    "display(HTML(importance.to_html()))"
   ]
  },
  {
   "cell_type": "markdown",
   "metadata": {},
   "source": [
    "Some of the most important variables are `int_rate`, `annual_inc` or `funded_amnt` this makes sense with our first hypothesis. On the other hand, the `addr_state` is not important."
   ]
  },
  {
   "cell_type": "markdown",
   "metadata": {},
   "source": [
    "### Confussion Matrix"
   ]
  },
  {
   "cell_type": "markdown",
   "metadata": {},
   "source": [
    "It is a performance measurement for machine learning classification problem where output can be two or more classes. It is a table with 4 different combinations of predicted and actual values.\n",
    "\n",
    "It is extremely useful for measuring Recall, Precision, Specificity, Accuracy and most importantly AUC-ROC Curve."
   ]
  },
  {
   "cell_type": "markdown",
   "metadata": {},
   "source": [
    "#### Non normalized"
   ]
  },
  {
   "cell_type": "markdown",
   "metadata": {},
   "source": [
    "Here we have the confussion matrix with the absolute values..."
   ]
  },
  {
   "cell_type": "code",
   "execution_count": 10,
   "metadata": {},
   "outputs": [
    {
     "data": {
      "image/png": "[encoded data removed]",
      "text/plain": [
       "<Figure size 576x576 with 2 Axes>"
      ]
     },
     "metadata": {
      "needs_background": "light"
     },
     "output_type": "display_data"
    }
   ],
   "source": [
    "    # Set the size\n",
    "plt.figure(figsize = (8, 8))\n",
    "\n",
    "    # Use the function defined above\n",
    "plot_confusion_matrix(y_pred, 'Random Forest', normalize = False)\n",
    "plt.show()"
   ]
  },
  {
   "cell_type": "markdown",
   "metadata": {},
   "source": [
    "#### Normalized"
   ]
  },
  {
   "cell_type": "code",
   "execution_count": 11,
   "metadata": {},
   "outputs": [
    {
     "data": {
      "image/png": "[encoded data removed]",
      "text/plain": [
       "<Figure size 576x576 with 2 Axes>"
      ]
     },
     "metadata": {
      "needs_background": "light"
     },
     "output_type": "display_data"
    }
   ],
   "source": [
    "    # Set the size\n",
    "plt.figure(figsize = (8, 8))\n",
    "\n",
    "    # Use the function defined above\n",
    "plot_confusion_matrix(y_pred, 'XGBoost Classifier', normalize = True)\n",
    "plt.show()"
   ]
  },
  {
   "cell_type": "markdown",
   "metadata": {},
   "source": [
    "Here we can see that our random forest model is quite good predicting Fully Pay members, because we have more than a 96.9% of *True Positives*, but is the worst predicting Non-payment clients, this is due from the total customers that non-pay we are predicting well only 15%."
   ]
  },
  {
   "cell_type": "markdown",
   "metadata": {},
   "source": [
    "### Classsification Report"
   ]
  },
  {
   "cell_type": "code",
   "execution_count": 12,
   "metadata": {},
   "outputs": [
    {
     "name": "stdout",
     "output_type": "stream",
     "text": [
      "              precision    recall  f1-score   support\n",
      "\n",
      "           0       0.77      0.97      0.86     47845\n",
      "           1       0.62      0.15      0.24     15908\n",
      "\n",
      "    accuracy                           0.76     63753\n",
      "   macro avg       0.70      0.56      0.55     63753\n",
      "weighted avg       0.74      0.76      0.71     63753\n",
      "\n"
     ]
    }
   ],
   "source": [
    "print(classification_report(y_val, y_pred))"
   ]
  },
  {
   "cell_type": "markdown",
   "metadata": {},
   "source": [
    "We can see at the `classification_report` that our model predict very well Fully Pay customers, because we have a high precision (remember *Precision = TP/(TP + FP)*) and therefore our recall (*Recall = TP/(TP+FN)*) is almost 100% this makes that the f1-score (*F1 Score = 2(Recall · Precision) / (Recall + Precision)*) is 86%.\n",
    "\n",
    "On the other hand, as we said above the Random Forest model is very poor predicting Non-payment clientes. The main issue is that the recall is very low, that means we can not detect all the Non-payment, in other words, we have a bigger amount of False Positives."
   ]
  },
  {
   "cell_type": "markdown",
   "metadata": {},
   "source": [
    "### ROC Curve"
   ]
  },
  {
   "cell_type": "markdown",
   "metadata": {},
   "source": [
    "AUC - ROC curve is a performance measurement for classification problem at various thresholds settings. ROC is a probability curve and AUC represents degree or measure of separability. It tells how much model is capable of distinguishing between classes. Higher the AUC, better the model is at predicting 0s as 0s and 1s as 1s."
   ]
  },
  {
   "cell_type": "code",
   "execution_count": 13,
   "metadata": {},
   "outputs": [
    {
     "data": {
      "image/png": "[encoded data removed]",
      "text/plain": [
       "<Figure size 432x288 with 1 Axes>"
      ]
     },
     "metadata": {
      "needs_background": "light"
     },
     "output_type": "display_data"
    }
   ],
   "source": [
    "    # Parametrize\n",
    "classifier = rfreg\n",
    "\n",
    "disp = metrics.plot_roc_curve(rfreg, X_val, y_val, color='#8B0000')\n",
    "\n",
    "# Set title\n",
    "disp.ax_.set_title('ROC curve XGBoost Regression');"
   ]
  },
  {
   "cell_type": "markdown",
   "metadata": {},
   "source": [
    "AUC - ROC curve is a performance measurement for classification problem at various thresholds settings. ROC is a probability curve and AUC represents degree or measure of separability. It tells how much model is capable of distinguishing between classes. Higher the AUC, better the model is at predicting 0s as 0s and 1s as 1s.\n",
    "\n",
    "In this case we have an AUC = 0.73 that is high but not very high."
   ]
  },
  {
   "cell_type": "markdown",
   "metadata": {},
   "source": [
    "### Precision-Recall curve"
   ]
  },
  {
   "cell_type": "markdown",
   "metadata": {},
   "source": [
    "Precision-Recall is a useful measure of success of prediction when the classes are very imbalanced. In information retrieval, precision is a measure of result relevancy, while recall is a measure of how many truly relevant results are returned.\n",
    "The precision-recall curve shows the tradeoff between precision and recall for different threshold. A high area under the curve represents both high recall and high precision, where high precision relates to a low false positive rate, and high recall relates to a low false negative rate. High scores for both show that the classifier is returning accurate results (high precision), as well as returning a majority of all positive results (high recall).\n",
    "A system with high recall but low precision returns many results, but most of its predicted labels are incorrect when compared to the training labels. A system with high precision but low recall is just the opposite, returning very few results, but most of its predicted labels are correct when compared to the training labels. An ideal system with high precision and high recall will return many results, with all results labeled correctly."
   ]
  },
  {
   "cell_type": "code",
   "execution_count": 17,
   "metadata": {},
   "outputs": [
    {
     "name": "stdout",
     "output_type": "stream",
     "text": [
      "Random Forest: f1=0.240 auc=0.468\n"
     ]
    },
    {
     "data": {
      "image/png": "[encoded data removed]",
      "text/plain": [
       "<Figure size 432x288 with 1 Axes>"
      ]
     },
     "metadata": {
      "needs_background": "light"
     },
     "output_type": "display_data"
    }
   ],
   "source": [
    "# predict probabilities\n",
    "lr_probs = rfreg.predict_proba(X_val)\n",
    "    \n",
    "    # keep probabilities for the positive outcome only\n",
    "lr_probs = lr_probs[:, 1]\n",
    "\n",
    "    # calculate precision and recall for each threshold\n",
    "lr_precision, lr_recall, _ = precision_recall_curve(y_val, lr_probs)\n",
    "    \n",
    "    # calculate scores\n",
    "lr_f1, lr_auc = f1_score(y_val, y_pred), auc(lr_recall, lr_precision)\n",
    "    \n",
    "    # summarize scores\n",
    "print('Random Forest: f1=%.3f auc=%.3f' % (lr_f1, lr_auc))\n",
    "   \n",
    "    # plot the precision-recall curves\n",
    "no_skill = len(y_val[y_val==1]) / len(y_val)\n",
    "plt.plot([0, 1], [no_skill, no_skill], linestyle='--', label='No Skill')\n",
    "plt.plot(lr_recall, lr_precision, marker='.', label='Random Forest', color='#8B0000')\n",
    "    \n",
    "    # axis labels\n",
    "plt.xlabel('Recall')\n",
    "plt.ylabel('Precision')\n",
    "\n",
    "# show the legend\n",
    "plt.legend()\n",
    "\n",
    "# show the plot\n",
    "plt.show()"
   ]
  },
  {
   "cell_type": "markdown",
   "metadata": {},
   "source": [
    "### Cumulative gains curve"
   ]
  },
  {
   "cell_type": "markdown",
   "metadata": {},
   "source": [
    "The cumulative gains curve is an evaluation curve that assesses the performance of the model and compares the results with the random pick. It shows the percentage of targets reached when considering a certain percentage of the population with the highest probability to be target according to the model."
   ]
  },
  {
   "cell_type": "code",
   "execution_count": 20,
   "metadata": {},
   "outputs": [
    {
     "data": {
      "image/png": "[encoded data removed]",
      "text/plain": [
       "<Figure size 576x576 with 1 Axes>"
      ]
     },
     "metadata": {
      "needs_background": "light"
     },
     "output_type": "display_data"
    }
   ],
   "source": [
    "# Deriving Class probabilities\n",
    "predicted_probabilities = rfreg.predict_proba(X_val)\n",
    "\n",
    "    # Creating the plot\n",
    "skplt.metrics.plot_cumulative_gain(y_val, predicted_probabilities, figsize=(8,8));"
   ]
  },
  {
   "cell_type": "markdown",
   "metadata": {},
   "source": [
    "With the xgboost regression if we analyze the 50% of the clients we will obtain more than a 70% certainty, this is interisting if the company has to audit the clients only needs the 50% of the clients to reach the 70%."
   ]
  },
  {
   "cell_type": "markdown",
   "metadata": {},
   "source": [
    "### Lift curve"
   ]
  },
  {
   "cell_type": "markdown",
   "metadata": {},
   "source": [
    "In addition to the cumulative gains curve, the lift curve is a widely used visualization of model performance. In definitive terms, the lift is a measure of the performance of a targeting model at predicting or classifying cases as having an enhanced response (for the population as a whole), measured against a random choice targeting model. Constructing a lift curve follows a similar process as forming the cumulative gain curve. Indeed, it is derived from the gain chart. First, we order observations on the horizontal axis with the highest probability of being a target on the left and vice versa for the right-hand side. On the vertical axis, the lift curve indicates how many times more than average targets are included in this group. Lift is calculated as the ratio of Cumulative Gains from classification and random models."
   ]
  },
  {
   "cell_type": "code",
   "execution_count": 21,
   "metadata": {},
   "outputs": [
    {
     "data": {
      "image/png": "[encoded data removed]",
      "text/plain": [
       "<Figure size 576x576 with 1 Axes>"
      ]
     },
     "metadata": {
      "needs_background": "light"
     },
     "output_type": "display_data"
    }
   ],
   "source": [
    "# Plot the lift curve\n",
    "skplt.metrics.plot_lift_curve(y_val, predicted_probabilities, figsize=(8,8));"
   ]
  },
  {
   "cell_type": "markdown",
   "metadata": {},
   "source": [
    "Here we can see how many times more than average targets are included in this group. Lift is calculated as the ratio of Cumulative Gains from classification and random models. Consider the lift at 50%(the desired target of promotion); we can notice that the top 50% of observations contain 70% of targets. If the average incidence of targets is 50%, so the lift is 1.5. Thus, the model allows addressing 1.5 times more targets for this group, compared with addressing without the model, that is randomly."
   ]
  },
  {
   "cell_type": "code",
   "execution_count": 22,
   "metadata": {},
   "outputs": [],
   "source": [
    "    #save the model to disk\n",
    "model = rfreg\n",
    "filename = \"random_forest.sav\"\n",
    "pickle.dump(model, open(filename, 'wb'))"
   ]
  }
 ],
 "metadata": {
  "kernelspec": {
   "display_name": "Python 3",
   "language": "python",
   "name": "python3"
  },
  "language_info": {
   "codemirror_mode": {
    "name": "ipython",
    "version": 3
   },
   "file_extension": ".py",
   "mimetype": "text/x-python",
   "name": "python",
   "nbconvert_exporter": "python",
   "pygments_lexer": "ipython3",
   "version": "3.8.3"
  }
 },
 "nbformat": 4,
 "nbformat_minor": 4
}
